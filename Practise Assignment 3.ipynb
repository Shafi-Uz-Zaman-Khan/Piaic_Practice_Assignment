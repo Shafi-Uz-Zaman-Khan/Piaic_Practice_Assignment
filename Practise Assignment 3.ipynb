{
 "cells": [
  {
   "cell_type": "markdown",
   "metadata": {},
   "source": [
    "# Q1:"
   ]
  },
  {
   "cell_type": "markdown",
   "metadata": {},
   "source": [
    "Think of at least three kinds of your favorite pizza. Store these pizza names in a list, and then use a for loop to print the name of each pizza."
   ]
  },
  {
   "cell_type": "code",
   "execution_count": 2,
   "metadata": {},
   "outputs": [],
   "source": [
    "pizza = ['Bihari Chicken','BBQ Buzz','Spicy Runch']"
   ]
  },
  {
   "cell_type": "code",
   "execution_count": 5,
   "metadata": {},
   "outputs": [
    {
     "name": "stdout",
     "output_type": "stream",
     "text": [
      "Bihari Chicken\n",
      "BBQ Buzz\n",
      "Spicy Runch\n"
     ]
    }
   ],
   "source": [
    "for x in pizza:\n",
    "    print(x)"
   ]
  },
  {
   "cell_type": "code",
   "execution_count": null,
   "metadata": {},
   "outputs": [],
   "source": []
  },
  {
   "cell_type": "markdown",
   "metadata": {},
   "source": [
    "# Q2"
   ]
  },
  {
   "cell_type": "markdown",
   "metadata": {},
   "source": [
    "Start with your last question , Modify your for loop to print a sentence using the name of the pizza\n",
    "instead of printing just the name of the pizza. For each pizza you should\n",
    "have one line of output containing a simple statement like I like pepperoni\n",
    "pizza."
   ]
  },
  {
   "cell_type": "code",
   "execution_count": 8,
   "metadata": {},
   "outputs": [],
   "source": [
    "pizza = ['Bihari Chicken','BBQ Buzz','Spicy Runch']"
   ]
  },
  {
   "cell_type": "code",
   "execution_count": 15,
   "metadata": {},
   "outputs": [
    {
     "name": "stdout",
     "output_type": "stream",
     "text": [
      "I like Bihari Chicken Pizza\n",
      "I like BBQ Buzz Pizza\n",
      "I like Spicy Runch Pizza\n"
     ]
    }
   ],
   "source": [
    "for x in pizza:\n",
    "    print(f\"I like {x} Pizza\")"
   ]
  },
  {
   "cell_type": "code",
   "execution_count": null,
   "metadata": {},
   "outputs": [],
   "source": []
  },
  {
   "cell_type": "markdown",
   "metadata": {},
   "source": [
    "# Q3:"
   ]
  },
  {
   "cell_type": "markdown",
   "metadata": {},
   "source": [
    "Use a for loop to print the numbers from 1 to 20,\n",
    "inclusive."
   ]
  },
  {
   "cell_type": "code",
   "execution_count": 18,
   "metadata": {},
   "outputs": [
    {
     "name": "stdout",
     "output_type": "stream",
     "text": [
      "1\n",
      "2\n",
      "3\n",
      "4\n",
      "5\n",
      "6\n",
      "7\n",
      "8\n",
      "9\n",
      "10\n",
      "11\n",
      "12\n",
      "13\n",
      "14\n",
      "15\n",
      "16\n",
      "17\n",
      "18\n",
      "19\n",
      "20\n"
     ]
    }
   ],
   "source": [
    "for num in range(1,21):\n",
    "    print(num)"
   ]
  },
  {
   "cell_type": "code",
   "execution_count": null,
   "metadata": {},
   "outputs": [],
   "source": []
  },
  {
   "cell_type": "code",
   "execution_count": null,
   "metadata": {},
   "outputs": [],
   "source": []
  },
  {
   "cell_type": "markdown",
   "metadata": {},
   "source": [
    "# Q4:"
   ]
  },
  {
   "cell_type": "markdown",
   "metadata": {},
   "source": [
    "Use the third argument of the range() function to make a list\n",
    "of the odd numbers from 1 to 20. Use a for loop to print each number."
   ]
  },
  {
   "cell_type": "code",
   "execution_count": 33,
   "metadata": {},
   "outputs": [
    {
     "name": "stdout",
     "output_type": "stream",
     "text": [
      "[1, 3, 5, 7, 9, 11, 13, 15, 17, 19]\n"
     ]
    }
   ],
   "source": [
    "odd_num = [ num for num in range(1,20,2)]\n",
    "print(odd_num)"
   ]
  },
  {
   "cell_type": "code",
   "execution_count": null,
   "metadata": {},
   "outputs": [],
   "source": []
  },
  {
   "cell_type": "code",
   "execution_count": null,
   "metadata": {},
   "outputs": [],
   "source": []
  },
  {
   "cell_type": "markdown",
   "metadata": {},
   "source": [
    "# Q5:"
   ]
  },
  {
   "cell_type": "markdown",
   "metadata": {},
   "source": [
    "Make a list of the multiples of 3 from 3 to 30. Use a for loop to\n",
    "print the numbers in your list."
   ]
  },
  {
   "cell_type": "code",
   "execution_count": null,
   "metadata": {},
   "outputs": [],
   "source": []
  },
  {
   "cell_type": "code",
   "execution_count": 50,
   "metadata": {},
   "outputs": [
    {
     "name": "stdout",
     "output_type": "stream",
     "text": [
      "[3, 6, 9, 12, 15, 18, 21, 24, 27, 30, 33, 36, 39, 42, 45, 48, 51, 54, 57, 60, 63, 66, 69, 72, 75, 78, 81, 84, 87, 90]\n"
     ]
    }
   ],
   "source": [
    "multiples = []\n",
    "for num in range(1,31):\n",
    "    multiples.append(num*3)\n",
    "print(multiples)"
   ]
  },
  {
   "cell_type": "code",
   "execution_count": null,
   "metadata": {},
   "outputs": [],
   "source": []
  },
  {
   "cell_type": "code",
   "execution_count": null,
   "metadata": {},
   "outputs": [],
   "source": []
  },
  {
   "cell_type": "markdown",
   "metadata": {},
   "source": [
    "# Q6:"
   ]
  },
  {
   "cell_type": "markdown",
   "metadata": {},
   "source": [
    "A number raised to the third power is called a cube. For example,\n",
    "the cube of 2 is written as 2**3 in Python. Make a list of the first 10 cubes (that\n",
    "is, the cube of each integer from 1 through 10), and use a for loop to print out\n",
    "the value of each cube"
   ]
  },
  {
   "cell_type": "code",
   "execution_count": 51,
   "metadata": {},
   "outputs": [
    {
     "name": "stdout",
     "output_type": "stream",
     "text": [
      "cube of 1 is 1\n",
      "cube of 2 is 8\n",
      "cube of 3 is 27\n",
      "cube of 4 is 64\n",
      "cube of 5 is 125\n",
      "cube of 6 is 216\n",
      "cube of 7 is 343\n",
      "cube of 8 is 512\n",
      "cube of 9 is 729\n",
      "cube of 10 is 1000\n"
     ]
    }
   ],
   "source": [
    "for num in range(1,11):\n",
    "    print(f'cube of {num} is {num**3}')"
   ]
  },
  {
   "cell_type": "code",
   "execution_count": null,
   "metadata": {},
   "outputs": [],
   "source": []
  },
  {
   "cell_type": "code",
   "execution_count": null,
   "metadata": {},
   "outputs": [],
   "source": []
  },
  {
   "cell_type": "code",
   "execution_count": null,
   "metadata": {},
   "outputs": [],
   "source": []
  },
  {
   "cell_type": "markdown",
   "metadata": {},
   "source": [
    "# Q7:"
   ]
  },
  {
   "cell_type": "markdown",
   "metadata": {},
   "source": [
    "###### Make a python program that conatains your nine favourite dishes in a list called foods.\n",
    "\n",
    "###### Print the message, The first three items in the list are:. \n",
    "###### Then use a slice to print the first three items from that program’s list.\n",
    "\n",
    "###### Print the message, Three items from the middle of the list are:\n",
    "###### Use a slice to print three items from the middle of the list.\n",
    "\n",
    "###### Print the message, The last three items in the list are:\n",
    "###### Use a slice to print the last three items in the list."
   ]
  },
  {
   "cell_type": "code",
   "execution_count": 55,
   "metadata": {},
   "outputs": [],
   "source": [
    "Food = ['Biryani','Karahi','Nihari','Tikka','Zinger','Broast','Pizza','Chicken Manchurian','Bihari Kabab']"
   ]
  },
  {
   "cell_type": "code",
   "execution_count": 60,
   "metadata": {},
   "outputs": [
    {
     "name": "stdout",
     "output_type": "stream",
     "text": [
      "The first three items in the list are:\n",
      "['Biryani', 'Karahi', 'Nihari']\n"
     ]
    }
   ],
   "source": [
    "print('The first three items in the list are:')\n",
    "print(Food[:3])"
   ]
  },
  {
   "cell_type": "code",
   "execution_count": 61,
   "metadata": {},
   "outputs": [
    {
     "name": "stdout",
     "output_type": "stream",
     "text": [
      "Three items from the middle of the list are:\n",
      "['Tikka', 'Zinger', 'Broast']\n"
     ]
    }
   ],
   "source": [
    "print('Three items from the middle of the list are:')\n",
    "print(Food[3:6])"
   ]
  },
  {
   "cell_type": "code",
   "execution_count": 62,
   "metadata": {},
   "outputs": [
    {
     "name": "stdout",
     "output_type": "stream",
     "text": [
      "he last three items in the list are:\n",
      "['Pizza', 'Chicken Manchurian', 'Bihari Kabab']\n"
     ]
    }
   ],
   "source": [
    "print('he last three items in the list are:')\n",
    "print(Food[6:])"
   ]
  },
  {
   "cell_type": "code",
   "execution_count": null,
   "metadata": {},
   "outputs": [],
   "source": []
  },
  {
   "cell_type": "code",
   "execution_count": null,
   "metadata": {},
   "outputs": [],
   "source": []
  },
  {
   "cell_type": "code",
   "execution_count": null,
   "metadata": {},
   "outputs": [],
   "source": []
  },
  {
   "cell_type": "markdown",
   "metadata": {},
   "source": [
    "# Q8:"
   ]
  },
  {
   "cell_type": "markdown",
   "metadata": {},
   "source": [
    "### Start with your program from your last Question8.\n",
    "###### Make a copy of the list of foods, and call it friend_foods.\n",
    "###### Then, do the following:\n",
    "######    Add a new dish to the original list.\n",
    "######    Add a different dish to the list friend_foodss.\n",
    "######    Prove that you have two separate lists. \n",
    "###### Print the message, My favorite pizzas are: and then use a for loop to print the first list. \n",
    "###### Print the message,\n",
    "###### My friend’s favorite foods are:, and then use a for loop to print the second list.\n",
    "    \n",
    "##### NOTE: Make sure each new dish is stored in the appropriate list."
   ]
  },
  {
   "cell_type": "code",
   "execution_count": 73,
   "metadata": {},
   "outputs": [],
   "source": [
    "friend_foods = Food.copy()"
   ]
  },
  {
   "cell_type": "code",
   "execution_count": 74,
   "metadata": {},
   "outputs": [],
   "source": [
    "Food.append('Kachi Biryani')"
   ]
  },
  {
   "cell_type": "code",
   "execution_count": 76,
   "metadata": {},
   "outputs": [],
   "source": [
    "friend_foods.append('Koyla Karahi')"
   ]
  },
  {
   "cell_type": "code",
   "execution_count": 85,
   "metadata": {},
   "outputs": [
    {
     "name": "stdout",
     "output_type": "stream",
     "text": [
      "my favourite dishes are ['Biryani', 'Karahi', 'Nihari', 'Tikka', 'Zinger', 'Broast', 'Pizza', 'Chicken Manchurian', 'Bihari Kabab', 'Kachi Biryani', 'Kachi Biryani', 'Kachi Biryani', 'Kachi Biryani']\n"
     ]
    }
   ],
   "source": [
    "print(f\"My favourite Food are {[x for x in Food]}\")"
   ]
  },
  {
   "cell_type": "code",
   "execution_count": 87,
   "metadata": {},
   "outputs": [
    {
     "name": "stdout",
     "output_type": "stream",
     "text": [
      "My Friend favourite Food are ['Biryani', 'Karahi', 'Nihari', 'Tikka', 'Zinger', 'Broast', 'Pizza', 'Chicken Manchurian', 'Bihari Kabab', 'Kachi Biryani', 'Kachi Biryani', 'Kachi Biryani', 'Koyla Karahi']\n"
     ]
    }
   ],
   "source": [
    "print(f\"My Friend favourite Food are {[x for x in friend_foods]}\")"
   ]
  },
  {
   "cell_type": "code",
   "execution_count": null,
   "metadata": {},
   "outputs": [],
   "source": []
  },
  {
   "cell_type": "code",
   "execution_count": null,
   "metadata": {},
   "outputs": [],
   "source": []
  },
  {
   "cell_type": "markdown",
   "metadata": {},
   "source": [
    "# Q9:"
   ]
  },
  {
   "cell_type": "markdown",
   "metadata": {},
   "source": [
    "Take a user input from console line.Store it in a variable called Alien_color.\n",
    "\n",
    "If the alien’s color is red, print a statement that the player just earned 5 points for shooting the alien.\n",
    "\n",
    "If the alien’s color isn’t green, print a statement that the player just earned 10 points.\n",
    "\n",
    "If the alien's color isn't red or green , print a statment :, Alien is no more....."
   ]
  },
  {
   "cell_type": "code",
   "execution_count": 1,
   "metadata": {},
   "outputs": [
    {
     "name": "stdout",
     "output_type": "stream",
     "text": [
      "Enter the Alien Colorred\n",
      " Player just earned 5 points for shooting the alien.\n"
     ]
    }
   ],
   "source": [
    "Alien_color = input('Enter the Alien Color').lower()\n",
    "if Alien_color == 'red':\n",
    "    print(' Player just earned 5 points for shooting the alien.')\n",
    "elif Alien_color == 'green':\n",
    "    print('Player just earned 10 points.')\n",
    "else:\n",
    "    print('Alien is no more.....')"
   ]
  },
  {
   "cell_type": "code",
   "execution_count": 2,
   "metadata": {},
   "outputs": [
    {
     "name": "stdout",
     "output_type": "stream",
     "text": [
      "Enter the Alien Colorgreen\n",
      "Player just earned 10 points.\n"
     ]
    }
   ],
   "source": [
    "Alien_color = input('Enter the Alien Color').lower()\n",
    "if Alien_color == 'red':\n",
    "    print(' Player just earned 5 points for shooting the alien.')\n",
    "elif Alien_color == 'green':\n",
    "    print('Player just earned 10 points.')\n",
    "else:\n",
    "    print('Alien is no more.....')"
   ]
  },
  {
   "cell_type": "code",
   "execution_count": 3,
   "metadata": {},
   "outputs": [
    {
     "name": "stdout",
     "output_type": "stream",
     "text": [
      "Enter the Alien Coloryellow\n",
      "Alien is no more.....\n"
     ]
    }
   ],
   "source": [
    "Alien_color = input('Enter the Alien Color').lower()\n",
    "if Alien_color == 'red':\n",
    "    print(' Player just earned 5 points for shooting the alien.')\n",
    "elif Alien_color == 'green':\n",
    "    print('Player just earned 10 points.')\n",
    "else:\n",
    "    print('Alien is no more.....')"
   ]
  },
  {
   "cell_type": "code",
   "execution_count": null,
   "metadata": {},
   "outputs": [],
   "source": []
  },
  {
   "cell_type": "markdown",
   "metadata": {},
   "source": [
    "# Q10:"
   ]
  },
  {
   "cell_type": "markdown",
   "metadata": {},
   "source": [
    "Write an if-elif-else chain that determines a person’s\n",
    "stage of life. Set a value for the variable age, and then:\n",
    "    \n",
    "•\t If the person is less than 2 years old, print a message that the person is a baby.\n",
    "\n",
    "•\t If the person is at least 2 years old but less than 4, print a message that the person is a toddler.\n",
    "\n",
    "•\t If the person is at least 4 years old but less than 13, print a message that the person is a kid.\n",
    "\n",
    "•\t If the person is at least 13 years old but less than 20, print a message that the person is a teenager.\n",
    "\n",
    "•\t If the person is at least 20 years old but less than 65, print a message that the person is an adult.\n",
    "\n",
    "•\t If the person is age 65 or older, print a message that the person is an elder."
   ]
  },
  {
   "cell_type": "code",
   "execution_count": 1,
   "metadata": {},
   "outputs": [
    {
     "name": "stdout",
     "output_type": "stream",
     "text": [
      "Enter Age1.3\n",
      "The Person Is Baby\n"
     ]
    }
   ],
   "source": [
    "age = float(input('Enter Age'))\n",
    "if age <2:\n",
    "    print(\"The Person Is Baby\")\n",
    "elif age <4 and age >= 2:\n",
    "    print('The Person Is Toddler')\n",
    "elif age <13 and age >=4:\n",
    "    print('The Person is Kid')\n",
    "elif age <20 and age >= 13:\n",
    "    print('The Person is Teenager')\n",
    "elif age <65 and age >=20:\n",
    "    print('The Person Is Adult')\n",
    "elif age >65:\n",
    "    print('The Person Is an Elder')"
   ]
  },
  {
   "cell_type": "code",
   "execution_count": 2,
   "metadata": {},
   "outputs": [
    {
     "name": "stdout",
     "output_type": "stream",
     "text": [
      "Enter Age3\n",
      "The Person Is Toddler\n"
     ]
    }
   ],
   "source": [
    "age = float(input('Enter Age'))\n",
    "if age <2:\n",
    "    print(\"The Person Is Baby\")\n",
    "elif age <4 and age >= 2:\n",
    "    print('The Person Is Toddler')\n",
    "elif age <13 and age >=4:\n",
    "    print('The Person is Kid')\n",
    "elif age <20 and age >= 13:\n",
    "    print('The Person is Teenager')\n",
    "elif age <65 and age >=20:\n",
    "    print('The Person Is Adult')\n",
    "elif age >65:\n",
    "    print('The Person Is an Elder')"
   ]
  },
  {
   "cell_type": "code",
   "execution_count": 3,
   "metadata": {},
   "outputs": [
    {
     "name": "stdout",
     "output_type": "stream",
     "text": [
      "Enter Age8\n",
      "The Person is Kid\n"
     ]
    }
   ],
   "source": [
    "age = float(input('Enter Age'))\n",
    "if age <2:\n",
    "    print(\"The Person Is Baby\")\n",
    "elif age <4 and age >= 2:\n",
    "    print('The Person Is Toddler')\n",
    "elif age <13 and age >=4:\n",
    "    print('The Person is Kid')\n",
    "elif age <20 and age >= 13:\n",
    "    print('The Person is Teenager')\n",
    "elif age <65 and age >=20:\n",
    "    print('The Person Is Adult')\n",
    "elif age >65:\n",
    "    print('The Person Is an Elder')"
   ]
  },
  {
   "cell_type": "code",
   "execution_count": 4,
   "metadata": {},
   "outputs": [
    {
     "name": "stdout",
     "output_type": "stream",
     "text": [
      "Enter Age16\n",
      "The Person is Teenager\n"
     ]
    }
   ],
   "source": [
    "age = float(input('Enter Age'))\n",
    "if age <2:\n",
    "    print(\"The Person Is Baby\")\n",
    "elif age <4 and age >= 2:\n",
    "    print('The Person Is Toddler')\n",
    "elif age <13 and age >=4:\n",
    "    print('The Person is Kid')\n",
    "elif age <20 and age >= 13:\n",
    "    print('The Person is Teenager')\n",
    "elif age <65 and age >=20:\n",
    "    print('The Person Is Adult')\n",
    "elif age >65:\n",
    "    print('The Person Is an Elder')"
   ]
  },
  {
   "cell_type": "code",
   "execution_count": 5,
   "metadata": {},
   "outputs": [
    {
     "name": "stdout",
     "output_type": "stream",
     "text": [
      "Enter Age22\n",
      "The Person Is Adult\n"
     ]
    }
   ],
   "source": [
    "age = float(input('Enter Age'))\n",
    "if age <2:\n",
    "    print(\"The Person Is Baby\")\n",
    "elif age <4 and age >= 2:\n",
    "    print('The Person Is Toddler')\n",
    "elif age <13 and age >=4:\n",
    "    print('The Person is Kid')\n",
    "elif age <20 and age >= 13:\n",
    "    print('The Person is Teenager')\n",
    "elif age <65 and age >=20:\n",
    "    print('The Person Is Adult')\n",
    "elif age >65:\n",
    "    print('The Person Is an Elder')"
   ]
  },
  {
   "cell_type": "code",
   "execution_count": 6,
   "metadata": {},
   "outputs": [
    {
     "name": "stdout",
     "output_type": "stream",
     "text": [
      "Enter Age70\n",
      "The Person Is an Elder\n"
     ]
    }
   ],
   "source": [
    "age = float(input('Enter Age'))\n",
    "if age <2:\n",
    "    print(\"The Person Is Baby\")\n",
    "elif age <4 and age >= 2:\n",
    "    print('The Person Is Toddler')\n",
    "elif age <13 and age >=4:\n",
    "    print('The Person is Kid')\n",
    "elif age <20 and age >= 13:\n",
    "    print('The Person is Teenager')\n",
    "elif age <65 and age >=20:\n",
    "    print('The Person Is Adult')\n",
    "elif age >65:\n",
    "    print('The Person Is an Elder')"
   ]
  },
  {
   "cell_type": "markdown",
   "metadata": {},
   "source": [
    "# Q11:"
   ]
  },
  {
   "cell_type": "markdown",
   "metadata": {},
   "source": [
    "Do the following to create a program that simulates how websites ensure that everyone has a unique username.\n",
    "\n",
    "•\t Make a list of five or more usernames called current_users.\n",
    "\n",
    "•\t Make another list of five usernames called new_users. \n",
    "Make sure one or two of the new usernames are also in the current_users list.\n",
    "\n",
    "•\t Loop through the new_users list to see if each new username has already been used. \n",
    "If it has, print a message that the person will need to enter a new username. \n",
    "If a username has not been used, print a message saying that the username is available.\n",
    "\n",
    "•\t Make sure your comparison is case insensitive. If 'John' has been used, 'JOHN' should not be accepted."
   ]
  },
  {
   "cell_type": "code",
   "execution_count": 15,
   "metadata": {},
   "outputs": [],
   "source": [
    "current_users = ['Ali','Rashid','Kashif','Arman','Imtiaz']\n",
    "new_users = ['Shan','Raheel','Kamran','Ali','Arsalan']"
   ]
  },
  {
   "cell_type": "code",
   "execution_count": 16,
   "metadata": {},
   "outputs": [
    {
     "name": "stdout",
     "output_type": "stream",
     "text": [
      "Enter username: Shan\n",
      "Successfull\n"
     ]
    }
   ],
   "source": [
    "new_users = input(\"Enter username: \")\n",
    "if new_users in current_users:\n",
    "    print('Username already exist')\n",
    "else:\n",
    "    current_users.append(new_users)\n",
    "    print(\"Successfull\")"
   ]
  },
  {
   "cell_type": "code",
   "execution_count": 17,
   "metadata": {},
   "outputs": [
    {
     "name": "stdout",
     "output_type": "stream",
     "text": [
      "Enter username: Ali\n",
      "Username already exist\n"
     ]
    }
   ],
   "source": [
    "new_users = input(\"Enter username: \")\n",
    "if new_users in current_users:\n",
    "    print('Username already exist')\n",
    "else:\n",
    "    current_users.append(new_users)\n",
    "    print(\"Successfull\")"
   ]
  },
  {
   "cell_type": "code",
   "execution_count": null,
   "metadata": {},
   "outputs": [],
   "source": []
  },
  {
   "cell_type": "markdown",
   "metadata": {},
   "source": [
    "# Q12:"
   ]
  },
  {
   "cell_type": "markdown",
   "metadata": {},
   "source": [
    "Use a dictionary to store information about a person you know.\n",
    "Store their first name, last name, age, and the city in which they live. \n",
    "You should have keys such as first_name, last_name, age, and city. \n",
    "Print each piece of information stored in your dictionary"
   ]
  },
  {
   "cell_type": "code",
   "execution_count": 49,
   "metadata": {},
   "outputs": [],
   "source": [
    "person = {'First_Name':'Ali','Last_Name':'Khan','Age':'20','City':'Karachi'}"
   ]
  },
  {
   "cell_type": "code",
   "execution_count": 50,
   "metadata": {},
   "outputs": [
    {
     "name": "stdout",
     "output_type": "stream",
     "text": [
      "First_Name: Ali\n",
      "Last_Name: Khan\n",
      "Age: 20\n",
      "City: Karachi\n"
     ]
    }
   ],
   "source": [
    "for key, value in person.items():\n",
    "    print(key + \": \" + value)"
   ]
  },
  {
   "cell_type": "code",
   "execution_count": null,
   "metadata": {},
   "outputs": [],
   "source": []
  },
  {
   "cell_type": "code",
   "execution_count": null,
   "metadata": {},
   "outputs": [],
   "source": []
  },
  {
   "cell_type": "markdown",
   "metadata": {},
   "source": [
    "# Q13:"
   ]
  },
  {
   "cell_type": "markdown",
   "metadata": {},
   "source": [
    "Starts with your last question 12 , loop through the dictionary’s keys and values.\n",
    "When you’re sure that your loop works, add five more Python terms to your\n",
    "dictionary . When you run your program again, these new words and meanings\n",
    "should automatically be included in the output."
   ]
  },
  {
   "cell_type": "code",
   "execution_count": 51,
   "metadata": {},
   "outputs": [],
   "source": [
    "person = {'First_Name':'Ali','Last_Name':'Khan','Age':'20','City':'Karachi'}"
   ]
  },
  {
   "cell_type": "code",
   "execution_count": 53,
   "metadata": {},
   "outputs": [
    {
     "name": "stdout",
     "output_type": "stream",
     "text": [
      "First_Name: Ali\n",
      "Last_Name: Khan\n",
      "Age: 20\n",
      "City: Karachi\n"
     ]
    }
   ],
   "source": [
    "for key, value in person.items():\n",
    "    print(key + \": \" + value)"
   ]
  },
  {
   "cell_type": "code",
   "execution_count": 54,
   "metadata": {},
   "outputs": [],
   "source": [
    "person[\"Contact\"] = \"198767\"\n",
    "person[\"Gander\"] = \"Male\"\n",
    "person[\"H.#\"] = \"2233\"\n",
    "person[\"Town\"] = \"New\"\n",
    "person[\"Class\"] = \"11\""
   ]
  },
  {
   "cell_type": "code",
   "execution_count": 55,
   "metadata": {},
   "outputs": [
    {
     "name": "stdout",
     "output_type": "stream",
     "text": [
      "First_Name: Ali\n",
      "Last_Name: Khan\n",
      "Age: 20\n",
      "City: Karachi\n",
      "Contact: 198767\n",
      "Gander: Male\n",
      "H.#: 2233\n",
      "Town: New\n",
      "Class: 11\n"
     ]
    }
   ],
   "source": [
    "for key, value in person.items():\n",
    "    print(key + \": \" + value)"
   ]
  },
  {
   "cell_type": "code",
   "execution_count": null,
   "metadata": {},
   "outputs": [],
   "source": []
  },
  {
   "cell_type": "markdown",
   "metadata": {},
   "source": [
    "# Q14:"
   ]
  },
  {
   "cell_type": "markdown",
   "metadata": {},
   "source": [
    "Make a dictionary containing three major rivers and the country\n",
    "each river runs through. One key-value pair might be 'nile': 'egypt'.\n",
    "    \n",
    "    \n",
    "•\t Use a loop to print a sentence about each river, such as The Nile runs\n",
    "through Egypt.\n",
    "\n",
    "NOTE: use upper case through keys and values."
   ]
  },
  {
   "cell_type": "code",
   "execution_count": 57,
   "metadata": {},
   "outputs": [],
   "source": [
    "rivers ={'Indus':'Pakistan','Nile':'Egypt','Amazon':'South_America'}"
   ]
  },
  {
   "cell_type": "code",
   "execution_count": 58,
   "metadata": {},
   "outputs": [
    {
     "name": "stdout",
     "output_type": "stream",
     "text": [
      "The INDUS runs through PAKISTAN.\n",
      "The NILE runs through EGYPT.\n",
      "The AMAZON runs through SOUTH_AMERICA.\n"
     ]
    }
   ],
   "source": [
    "for river, country in rivers.items():\n",
    "    print(\"The \" + river.upper() + \" runs through \" + country.upper() + \".\")"
   ]
  },
  {
   "cell_type": "code",
   "execution_count": null,
   "metadata": {},
   "outputs": [],
   "source": []
  },
  {
   "cell_type": "markdown",
   "metadata": {},
   "source": [
    "# Q15:"
   ]
  },
  {
   "cell_type": "markdown",
   "metadata": {},
   "source": [
    "Make several dictionaries, where the name of each dictionary is the\n",
    "name of a pet. In each dictionary, include the kind of animal and the owner’s\n",
    "name. Store these dictionaries in a list called pets. Next, loop through your list\n",
    "and as you do print everything you know about each pet."
   ]
  },
  {
   "cell_type": "code",
   "execution_count": 64,
   "metadata": {},
   "outputs": [
    {
     "name": "stdout",
     "output_type": "stream",
     "text": [
      "CAT\n",
      "{'Color': 'White', 'Language': 'MeawMeaw', 'Owner': 'Ali'}\n",
      "DOG\n",
      "{'Color': 'Brown', 'Language': 'BhowBhow', 'Owner': 'Kashif'}\n"
     ]
    }
   ],
   "source": [
    "cat = {'Color':'White','Language':'MeawMeaw','Owner':'Ali'}\n",
    "dog = {'Color':'Brown','Language':'BhowBhow','Owner':'Kashif'}\n",
    "pets =[cat,dog]\n",
    "names = ['cat','dog']\n",
    "for i in names:\n",
    "    print(i.upper())\n",
    "    if i == 'dog':\n",
    "        print(dog)\n",
    "    elif i == 'cat':\n",
    "        print(cat)\n"
   ]
  }
 ],
 "metadata": {
  "kernelspec": {
   "display_name": "Python 3",
   "language": "python",
   "name": "python3"
  },
  "language_info": {
   "codemirror_mode": {
    "name": "ipython",
    "version": 3
   },
   "file_extension": ".py",
   "mimetype": "text/x-python",
   "name": "python",
   "nbconvert_exporter": "python",
   "pygments_lexer": "ipython3",
   "version": "3.7.3"
  }
 },
 "nbformat": 4,
 "nbformat_minor": 2
}
